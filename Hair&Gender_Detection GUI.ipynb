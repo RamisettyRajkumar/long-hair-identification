{
 "cells": [
  {
   "cell_type": "code",
   "execution_count": 9,
   "metadata": {},
   "outputs": [],
   "source": [
    "import cv2\n",
    "import os\n",
    "import numpy as np\n",
    "from keras.models import load_model\n",
    "from tkinter import Tk, Label, Button, filedialog\n",
    "from PIL import Image, ImageTk "
   ]
  },
  {
   "cell_type": "code",
   "execution_count": 10,
   "metadata": {},
   "outputs": [],
   "source": [
    "age_model = load_model(r'C:\\DATASCIENCE\\RonyProject\\NullClass\\Long Hair Identification\\age_model.keras')\n",
    "gender_model = load_model(r'C:\\DATASCIENCE\\RonyProject\\NullClass\\Long Hair Identification\\gender_model.keras')\n",
    "hair_model = load_model(r'C:\\DATASCIENCE\\RonyProject\\NullClass\\Long Hair Identification\\hair_length_predict_model.keras')\n"
   ]
  },
  {
   "cell_type": "code",
   "execution_count": 11,
   "metadata": {},
   "outputs": [],
   "source": [
    "def preprocess_image(img):\n",
    "    img = cv2.resize(img, (128, 128)) / 255.0  # Resize and normalize\n",
    "    return np.expand_dims(img, axis=0)"
   ]
  },
  {
   "cell_type": "code",
   "execution_count": 12,
   "metadata": {},
   "outputs": [],
   "source": [
    "def predict(img):\n",
    "    age_pred = np.argmax(age_model.predict(img))\n",
    "    if age_pred == 1:  # Age 20-30\n",
    "        hair_pred = np.argmax(hair_model.predict(img))\n",
    "        if hair_pred == 0:  # Long hair\n",
    "            return \"Female (based on long hair)\"\n",
    "        else:\n",
    "            return \"Male (based on short hair)\"\n",
    "    else:\n",
    "        gender_pred = np.argmax(gender_model.predict(img))\n",
    "        return \"Female\" if gender_pred == 0 else \"Male\""
   ]
  },
  {
   "cell_type": "code",
   "execution_count": 13,
   "metadata": {},
   "outputs": [],
   "source": [
    "def upload_image():\n",
    "    global img_label\n",
    "    file_path = filedialog.askopenfilename()\n",
    "    if file_path:  # Ensure a file is selected\n",
    "        img = cv2.imread(file_path)\n",
    "        img = cv2.cvtColor(img, cv2.COLOR_BGR2RGB)  # Convert color for displaying\n",
    "        img_preprocessed = preprocess_image(img)\n",
    "        result = predict(img_preprocessed)\n",
    "\n",
    "        # Display the image\n",
    "        img_resized = cv2.resize(img, (300, 300))  # Resize for display\n",
    "        img_pil = Image.fromarray(img_resized)\n",
    "        img_tk = ImageTk.PhotoImage(img_pil)\n",
    "        img_label.config(image=img_tk)\n",
    "        img_label.image = img_tk\n",
    "\n",
    "        # Display the prediction result\n",
    "        label_result.config(text=f\"Prediction: {result}\")"
   ]
  },
  {
   "cell_type": "code",
   "execution_count": 14,
   "metadata": {},
   "outputs": [
    {
     "data": {
      "text/plain": [
       "''"
      ]
     },
     "execution_count": 14,
     "metadata": {},
     "output_type": "execute_result"
    }
   ],
   "source": [
    "root = Tk()\n",
    "root.title(\"Long Hair Gender Prediction\")"
   ]
  },
  {
   "cell_type": "code",
   "execution_count": 15,
   "metadata": {},
   "outputs": [],
   "source": [
    "label_result = Label(root, text=\"Upload an image for prediction\", font=(\"Arial\", 14))\n",
    "label_result.pack(pady=20)\n",
    "btn_upload = Button(root, text=\"Upload Image\", command=upload_image)\n",
    "btn_upload.pack(pady=10)\n",
    "img_label = Label(root)  # Placeholder for uploaded image\n",
    "img_label.pack(pady=10)"
   ]
  },
  {
   "cell_type": "code",
   "execution_count": 16,
   "metadata": {},
   "outputs": [
    {
     "name": "stdout",
     "output_type": "stream",
     "text": [
      "\u001b[1m1/1\u001b[0m \u001b[32m━━━━━━━━━━━━━━━━━━━━\u001b[0m\u001b[37m\u001b[0m \u001b[1m0s\u001b[0m 150ms/step\n",
      "\u001b[1m1/1\u001b[0m \u001b[32m━━━━━━━━━━━━━━━━━━━━\u001b[0m\u001b[37m\u001b[0m \u001b[1m0s\u001b[0m 70ms/step\n"
     ]
    }
   ],
   "source": [
    "root.mainloop()"
   ]
  }
 ],
 "metadata": {
  "kernelspec": {
   "display_name": "base",
   "language": "python",
   "name": "python3"
  },
  "language_info": {
   "codemirror_mode": {
    "name": "ipython",
    "version": 3
   },
   "file_extension": ".py",
   "mimetype": "text/x-python",
   "name": "python",
   "nbconvert_exporter": "python",
   "pygments_lexer": "ipython3",
   "version": "3.10.9"
  }
 },
 "nbformat": 4,
 "nbformat_minor": 2
}
