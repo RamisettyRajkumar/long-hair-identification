{
 "cells": [
  {
   "cell_type": "code",
   "execution_count": 29,
   "metadata": {},
   "outputs": [],
   "source": [
    "import os\n",
    "import shutil\n",
    "import pandas as pd"
   ]
  },
  {
   "cell_type": "code",
   "execution_count": 30,
   "metadata": {},
   "outputs": [],
   "source": [
    "csv_path = r'C:\\DATASCIENCE\\RonyProject\\NullClass\\Long Hair Identification\\Hair_length_model\\hair_length_.csv'  # Replace with your actual CSV file path\n",
    "df = pd.read_csv(csv_path, header=None, names=['filename', 'hair_length'])"
   ]
  },
  {
   "cell_type": "code",
   "execution_count": 31,
   "metadata": {},
   "outputs": [],
   "source": [
    "dataset_path = r'C:\\DATASCIENCE\\RonyProject\\NullClass\\Long Hair Identification\\hairdata'  # Your dataset folder path\n",
    "# Path to where you want to store the organized data\n",
    "organized_data_path =  r'C:\\DATASCIENCE\\RonyProject\\NullClass\\Long Hair Identificationhairdata_1'\n",
    "long_hair_path = os.path.join(organized_data_path, 'long_hair')\n",
    "short_hair_path = os.path.join(organized_data_path, 'short_hair')"
   ]
  },
  {
   "cell_type": "code",
   "execution_count": 32,
   "metadata": {},
   "outputs": [],
   "source": [
    "os.makedirs(long_hair_path, exist_ok=True)\n",
    "os.makedirs(short_hair_path, exist_ok=True)"
   ]
  },
  {
   "cell_type": "code",
   "execution_count": 33,
   "metadata": {},
   "outputs": [
    {
     "name": "stdout",
     "output_type": "stream",
     "text": [
      "Dataset has been organized into long and short hair classes.\n"
     ]
    }
   ],
   "source": [
    "for index, row in df.iterrows():\n",
    "    filename = row['filename']\n",
    "    hair_length = row['hair_length']\n",
    "    \n",
    "    # Determine the source and destination paths\n",
    "    source_path = os.path.join(dataset_path, filename)\n",
    "    \n",
    "    if hair_length == 'long':\n",
    "        destination_path = os.path.join(long_hair_path, filename)\n",
    "    elif hair_length == 'short':\n",
    "        destination_path = os.path.join(short_hair_path, filename)\n",
    "    else:\n",
    "        continue  # Skip if hair length is not recognized\n",
    "    \n",
    "    # Move the file\n",
    "    if os.path.exists(source_path):\n",
    "        shutil.move(source_path, destination_path)\n",
    "\n",
    "print(\"Dataset has been organized into long and short hair classes.\")\n"
   ]
  }
 ],
 "metadata": {
  "kernelspec": {
   "display_name": "base",
   "language": "python",
   "name": "python3"
  },
  "language_info": {
   "codemirror_mode": {
    "name": "ipython",
    "version": 3
   },
   "file_extension": ".py",
   "mimetype": "text/x-python",
   "name": "python",
   "nbconvert_exporter": "python",
   "pygments_lexer": "ipython3",
   "version": "3.10.9"
  }
 },
 "nbformat": 4,
 "nbformat_minor": 2
}
