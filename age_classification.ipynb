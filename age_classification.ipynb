{
  "cells": [
    {
      "cell_type": "code",
      "execution_count": null,
      "metadata": {
        "id": "aU-ZlLZfTrlb"
      },
      "outputs": [],
      "source": [
        "from tensorflow.keras.models import Sequential\n",
        "from tensorflow.keras.layers import Conv2D, MaxPooling2D, Flatten, Dense, Dropout\n",
        "from tensorflow.keras.preprocessing.image import ImageDataGenerator\n",
        "import os"
      ]
    },
    {
      "cell_type": "code",
      "execution_count": null,
      "metadata": {
        "id": "vLHsje6MTrle",
        "outputId": "c4d75544-7928-477e-c7f1-5bf3cae882d8"
      },
      "outputs": [
        {
          "name": "stdout",
          "output_type": "stream",
          "text": [
            "Found 16697 images belonging to 3 classes.\n",
            "Found 4173 images belonging to 3 classes.\n"
          ]
        }
      ],
      "source": [
        "data_gen = ImageDataGenerator(validation_split=0.2, rescale=1./255)\n",
        "\n",
        "train_data = data_gen.flow_from_directory(\n",
        "    r'C:\\DATASCIENCE\\RonyProject\\NullClass\\Long Hair Identification\\organized_data',\n",
        "    target_size=(128, 128),\n",
        "    batch_size=32,\n",
        "    class_mode='categorical',\n",
        "    subset='training'\n",
        ")\n",
        "\n",
        "val_data = data_gen.flow_from_directory(\n",
        "    r'C:\\DATASCIENCE\\RonyProject\\NullClass\\Long Hair Identification\\organized_data',\n",
        "    target_size=(128, 128),\n",
        "    batch_size=32,\n",
        "    class_mode='categorical',\n",
        "    subset='validation'\n",
        ")"
      ]
    },
    {
      "cell_type": "code",
      "execution_count": null,
      "metadata": {
        "id": "zabfjtD3Trlf"
      },
      "outputs": [],
      "source": [
        "age_model = Sequential([\n",
        "    Conv2D(32, (3, 3), activation='relu', input_shape=(128, 128, 3)),\n",
        "    MaxPooling2D(2, 2),\n",
        "    Conv2D(64, (3, 3), activation='relu'),\n",
        "    MaxPooling2D(2, 2),\n",
        "    Flatten(),\n",
        "    Dense(128, activation='relu'),\n",
        "    Dropout(0.5),\n",
        "    Dense(3, activation='softmax')  # 3 categories: <20, 20-30, >30\n",
        "])"
      ]
    },
    {
      "cell_type": "code",
      "execution_count": null,
      "metadata": {
        "id": "qnyVuB49Trlg",
        "outputId": "f3b58332-0bbb-4908-cf60-1a7822f8d7d5"
      },
      "outputs": [
        {
          "name": "stdout",
          "output_type": "stream",
          "text": [
            "Epoch 1/10\n",
            "\u001b[1m522/522\u001b[0m \u001b[32m━━━━━━━━━━━━━━━━━━━━\u001b[0m\u001b[37m\u001b[0m \u001b[1m308s\u001b[0m 589ms/step - accuracy: 0.9882 - loss: 0.0682 - val_accuracy: 0.9990 - val_loss: 0.0287\n",
            "Epoch 2/10\n",
            "\u001b[1m522/522\u001b[0m \u001b[32m━━━━━━━━━━━━━━━━━━━━\u001b[0m\u001b[37m\u001b[0m \u001b[1m258s\u001b[0m 494ms/step - accuracy: 0.9992 - loss: 0.0159 - val_accuracy: 0.9990 - val_loss: 0.4720\n",
            "Epoch 3/10\n",
            "\u001b[1m522/522\u001b[0m \u001b[32m━━━━━━━━━━━━━━━━━━━━\u001b[0m\u001b[37m\u001b[0m \u001b[1m225s\u001b[0m 431ms/step - accuracy: 0.9991 - loss: 0.1480 - val_accuracy: 0.9990 - val_loss: 0.0246\n",
            "Epoch 4/10\n",
            "\u001b[1m522/522\u001b[0m \u001b[32m━━━━━━━━━━━━━━━━━━━━\u001b[0m\u001b[37m\u001b[0m \u001b[1m307s\u001b[0m 587ms/step - accuracy: 0.9991 - loss: 0.0187 - val_accuracy: 0.9990 - val_loss: 0.0169\n",
            "Epoch 5/10\n",
            "\u001b[1m522/522\u001b[0m \u001b[32m━━━━━━━━━━━━━━━━━━━━\u001b[0m\u001b[37m\u001b[0m \u001b[1m302s\u001b[0m 578ms/step - accuracy: 0.9992 - loss: 0.0099 - val_accuracy: 0.9990 - val_loss: 0.0101\n",
            "Epoch 6/10\n",
            "\u001b[1m522/522\u001b[0m \u001b[32m━━━━━━━━━━━━━━━━━━━━\u001b[0m\u001b[37m\u001b[0m \u001b[1m341s\u001b[0m 653ms/step - accuracy: 0.9990 - loss: 0.0131 - val_accuracy: 0.9990 - val_loss: 0.0096\n",
            "Epoch 7/10\n",
            "\u001b[1m522/522\u001b[0m \u001b[32m━━━━━━━━━━━━━━━━━━━━\u001b[0m\u001b[37m\u001b[0m \u001b[1m352s\u001b[0m 675ms/step - accuracy: 0.9988 - loss: 0.0333 - val_accuracy: 0.9990 - val_loss: 0.0095\n",
            "Epoch 8/10\n",
            "\u001b[1m522/522\u001b[0m \u001b[32m━━━━━━━━━━━━━━━━━━━━\u001b[0m\u001b[37m\u001b[0m \u001b[1m270s\u001b[0m 517ms/step - accuracy: 0.9987 - loss: 0.0137 - val_accuracy: 0.9990 - val_loss: 0.0108\n",
            "Epoch 9/10\n",
            "\u001b[1m522/522\u001b[0m \u001b[32m━━━━━━━━━━━━━━━━━━━━\u001b[0m\u001b[37m\u001b[0m \u001b[1m275s\u001b[0m 526ms/step - accuracy: 0.9991 - loss: 0.0101 - val_accuracy: 0.9990 - val_loss: 0.0631\n",
            "Epoch 10/10\n",
            "\u001b[1m522/522\u001b[0m \u001b[32m━━━━━━━━━━━━━━━━━━━━\u001b[0m\u001b[37m\u001b[0m \u001b[1m237s\u001b[0m 454ms/step - accuracy: 0.9985 - loss: 0.0567 - val_accuracy: 0.9990 - val_loss: 0.0147\n"
          ]
        },
        {
          "data": {
            "text/plain": [
              "<keras.src.callbacks.history.History at 0x223d528e200>"
            ]
          },
          "execution_count": 8,
          "metadata": {},
          "output_type": "execute_result"
        }
      ],
      "source": [
        "age_model.compile(optimizer='adam', loss='categorical_crossentropy', metrics=['accuracy'])\n",
        "age_model.fit(train_data, validation_data=val_data, epochs=10)"
      ]
    },
    {
      "cell_type": "code",
      "execution_count": null,
      "metadata": {
        "id": "kmiyxNUrTrlg"
      },
      "outputs": [],
      "source": [
        "age_model.save(r'C:\\DATASCIENCE\\RonyProject\\NullClass\\Long Hair Identification\\age_model.keras')"
      ]
    }
  ],
  "metadata": {
    "kernelspec": {
      "display_name": "base",
      "language": "python",
      "name": "python3"
    },
    "language_info": {
      "codemirror_mode": {
        "name": "ipython",
        "version": 3
      },
      "file_extension": ".py",
      "mimetype": "text/x-python",
      "name": "python",
      "nbconvert_exporter": "python",
      "pygments_lexer": "ipython3",
      "version": "3.10.9"
    },
    "colab": {
      "provenance": []
    }
  },
  "nbformat": 4,
  "nbformat_minor": 0
}