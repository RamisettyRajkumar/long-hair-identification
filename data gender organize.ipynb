{
 "cells": [
  {
   "cell_type": "code",
   "execution_count": 5,
   "metadata": {},
   "outputs": [
    {
     "name": "stdout",
     "output_type": "stream",
     "text": [
      "Dataset organized into 'Male' and 'Female' folders successfully!\n"
     ]
    }
   ],
   "source": [
    "import os\n",
    "import shutil\n",
    "\n",
    "# Paths\n",
    "dataset_path = r'C:\\DATASCIENCE\\RonyProject\\NullClass\\Long Hair Identification\\hairdata'  # Replace with the directory containing your dataset\n",
    "output_path = r'C:\\DATASCIENCE\\RonyProject\\NullClass\\Long Hair Identification\\gender_data'  # Replace with the desired output path\n",
    "\n",
    "# Create target directories\n",
    "os.makedirs(os.path.join(output_path, 'Male'), exist_ok=True)\n",
    "os.makedirs(os.path.join(output_path, 'Female'), exist_ok=True)\n",
    "\n",
    "# Process each file in the dataset\n",
    "for file_name in os.listdir(dataset_path):\n",
    "    if file_name.endswith('.jpg'):  # Process only image files\n",
    "        try:\n",
    "            # Extract gender from the filename\n",
    "            gender = int(file_name.split('_')[1])  # Second part of filename corresponds to gender\n",
    "\n",
    "            # Assign category based on gender\n",
    "            category = 'Male' if gender == 0 else 'Female'\n",
    "\n",
    "            # Move the file to the corresponding folder\n",
    "            shutil.copy(\n",
    "                os.path.join(dataset_path, file_name),\n",
    "                os.path.join(output_path, category, file_name)\n",
    "            )\n",
    "        except Exception as e:\n",
    "            print(f\"Error processing file {file_name}: {e}\")\n",
    "\n",
    "print(\"Dataset organized into 'Male' and 'Female' folders successfully!\")"
   ]
  }
 ],
 "metadata": {
  "kernelspec": {
   "display_name": "base",
   "language": "python",
   "name": "python3"
  },
  "language_info": {
   "codemirror_mode": {
    "name": "ipython",
    "version": 3
   },
   "file_extension": ".py",
   "mimetype": "text/x-python",
   "name": "python",
   "nbconvert_exporter": "python",
   "pygments_lexer": "ipython3",
   "version": "3.10.9"
  }
 },
 "nbformat": 4,
 "nbformat_minor": 2
}
