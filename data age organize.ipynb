{
 "cells": [
  {
   "cell_type": "code",
   "execution_count": 15,
   "metadata": {},
   "outputs": [
    {
     "name": "stdout",
     "output_type": "stream",
     "text": [
      "Dataset organized successfully!\n"
     ]
    }
   ],
   "source": [
    "import os\n",
    "import shutil\n",
    "\n",
    "# Paths\n",
    "dataset_path = r'C:\\DATASCIENCE\\RonyProject\\NullClass\\Long Hair Identification\\hairdata'  # Use raw string or double backslashes\n",
    "output_path = r'C:\\DATASCIENCE\\RonyProject\\NullClass\\Long Hair Identification\\Ashrit'  # Use raw string or double backslashes\n",
    "\n",
    "# Create directories for organized data\n",
    "categories = ['age_under20', 'age_20-30', 'age_over30']  # Replace < and > with valid names\n",
    "for category in categories:\n",
    "    os.makedirs(os.path.join(output_path, category), exist_ok=True)\n",
    "\n",
    "# Process files\n",
    "# Process files\n",
    "for file_name in os.listdir(dataset_path):\n",
    "    if file_name.endswith('.jpg'):\n",
    "        try:\n",
    "            # Extract age from the filename by removing the file extension\n",
    "            age = int(file_name.split('.')[0])  # First part before \".\" is age\n",
    "\n",
    "            # Categorize age\n",
    "            if age < 20:\n",
    "                category = 'age_under20'\n",
    "            elif 20 <= age <= 30:\n",
    "                category = 'age_20-30'\n",
    "            else:\n",
    "                category = 'age_over30'\n",
    "\n",
    "            # Move the file to the appropriate category folder\n",
    "            shutil.copy(\n",
    "                os.path.join(dataset_path, file_name),\n",
    "                os.path.join(output_path, category, file_name)\n",
    "            )\n",
    "        except Exception as e:\n",
    "            print(f\"Error processing file {file_name}: {e}\")\n",
    "print(\"Dataset organized successfully!\")            \n"
   ]
  }
 ],
 "metadata": {
  "kernelspec": {
   "display_name": "base",
   "language": "python",
   "name": "python3"
  },
  "language_info": {
   "codemirror_mode": {
    "name": "ipython",
    "version": 3
   },
   "file_extension": ".py",
   "mimetype": "text/x-python",
   "name": "python",
   "nbconvert_exporter": "python",
   "pygments_lexer": "ipython3",
   "version": "3.10.9"
  }
 },
 "nbformat": 4,
 "nbformat_minor": 2
}
